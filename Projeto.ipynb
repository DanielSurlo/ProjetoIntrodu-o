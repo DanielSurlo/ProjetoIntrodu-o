{
  "cells": [
    {
      "metadata": {},
      "cell_type": "markdown",
      "source": "# Projeto - Controle de Saída de Dispositivos Empresariais\n\n### Desenvolvedores:\n* Daniel Lamborghini Surlo\n* Marcos Vinícius Figueiredo Soriano\n                  \n### Introdução a Algoritmos 2019/01"
    },
    {
      "metadata": {
        "collapsed": true
      },
      "cell_type": "markdown",
      "source": "\n## Fase 1:\n\n#### Modelagem do problema:\n\nA questão em busca de uma solução, seria uma forma de realizar um controle físico/virtual de equipamentos empresariais destinados a colaboradores de uma determinada companhia. Ex.: Como fazer o controle de equipamentos emprestados; equipamentos que ficam sob a responsabilidade de determinados funcionários. Qual forma de alinhar essas informações com setores e principalmente aqueles responsáveis pela entrada e saída de pessoas?!\n    \n###### Obs.: Por conta do fluxo de pessoas, a resolução precisa apresentar algo viável com relação a tempo.\n"
    },
    {
      "metadata": {},
      "cell_type": "markdown",
      "source": "## Fase 2:\n\n#### Escopo do problema:\n\nHoje para um colaborador sair com equipamento de uma determinada empresa, se demanda um certo tempo, pois o mesmo necessita passar por certas etapas até conseguir uma liberação, algumas vezes são utilizadas autorizações por e-mail ou mesmo em papeis, isso se toma um tempo que muitas vezes é indispensavel.\nNosso projeto tem como objetivo de diminuir o tempo que se leva para se conseguir uma autorização, e até mesmo para facilitar o acesso desta, por um funcionário responsável pelo controle de entrada e saída da empresa, por exemplo um guarda patrimonial.\n\n\n[Nosso tempo é precioso](https://exame.abril.com.br/blog/gestao-fora-da-caixa/quanto-vale-seu-tempo/)\n    "
    },
    {
      "metadata": {},
      "cell_type": "markdown",
      "source": "## Fase 3:\n\n* Iremos salvar os dados do dicionario em um arquivo csv e assim que desejado iremos consultar esse arquivo.\n\n## Fase 4: \n\n### Cadastro de dispositivo patrimonial.\n\n##### Passo 1: \n* Importar biblioteca CSV.\n* Definir cadastroPatrimonio como um dicionario vazio."
    },
    {
      "metadata": {
        "trusted": true
      },
      "cell_type": "code",
      "source": "import csv\ncadastroPatrimonio = {}",
      "execution_count": null,
      "outputs": []
    },
    {
      "metadata": {},
      "cell_type": "markdown",
      "source": "##### Passo 2:\n* Definição da função controle.\n* dados é definido como um dicionario vazio."
    },
    {
      "metadata": {
        "trusted": true
      },
      "cell_type": "code",
      "source": "def controle (patrimonio, dispositivo, marca, modelo):\n    dados = {}  \n    dados['dispositivo'] = dispositivo\n    dados['marca'] = marca\n    dados['modelo'] = modelo\n\n    cadastroPatrimonio[patrimonio] = dados",
      "execution_count": null,
      "outputs": []
    },
    {
      "metadata": {},
      "cell_type": "markdown",
      "source": "##### Passo 3:\n* Bloco de print's para iniciar interação visual com usuario."
    },
    {
      "metadata": {
        "trusted": true
      },
      "cell_type": "code",
      "source": "print('=-'*19)\nprint('Controle de Dispositivos Empresariais')\nprint('=-'*19)",
      "execution_count": null,
      "outputs": []
    },
    {
      "metadata": {},
      "cell_type": "markdown",
      "source": "##### Passo 4:\n* Pergunta ao usuario se o mesmo deseja realizar um cadastro."
    },
    {
      "metadata": {
        "trusted": true
      },
      "cell_type": "code",
      "source": "sair = False\nwhile sair == False:\n    resposta = input('Deseja cadastrar um dispositivo? S/N ').upper().strip()\n    if resposta != 'S' and resposta != 'N':\n        print('Digite novamente, S para sim e N para não.')\n    else:\n        sair = True",
      "execution_count": null,
      "outputs": []
    },
    {
      "metadata": {},
      "cell_type": "markdown",
      "source": "##### Passo 5:\n* Se resposta do usuario for S realiza as perguntas para cadastro.\n* Se usuario digitar qualquer caractere diferente de inteiro,o programa ira mostrar uma frase de alerta dizendo que só é aceito numero inteiro.\n* A função controle irá receber os parametros.\n* O loop será executado até que o usuario escolha para não realizar mais um cadastro."
    },
    {
      "metadata": {
        "trusted": true
      },
      "cell_type": "code",
      "source": "while resposta == 'S' or resposta == 'SIM':\n    try:        \n        patrimonio = int(input('Digite o N° de Patrimônio: '))\n        dispositivo = input('Digite o tipo de Dispositivo (Notebook, Tablet, Smartphone): ').upper()\n        marca = input('Digite a marca do Dispositivo: ').upper()\n        modelo = input('Digite o modelo do Dispositivo: ').upper()\n        while True:\n            resposta = input('Deseja cadastrar outro dispositivo? S/N ').upper().strip()\n            if resposta != 'S' and resposta != 'N':\n                print('Digite Novamente, S para sim e N para não.')\n            else:\n                break\n        controle(patrimonio, dispositivo, marca, modelo)     \n        if resposta == 'N' or resposta == 'NAO':\n            print('=-'*11)\n            print('Cadastro Finalizado')\n            print('=-'*11)\n    except:\n        print('Digite um numero inteiro')",
      "execution_count": null,
      "outputs": []
    },
    {
      "metadata": {},
      "cell_type": "markdown",
      "source": "##### Passo 6:\n* Abre o arquivo e percorre o for para gravar todos os arquivos que o usuario digitou."
    },
    {
      "metadata": {
        "trusted": true
      },
      "cell_type": "code",
      "source": "arq = open(\"projeto_algoritmo.csv\", \"a\")\nc = csv.writer(arq)\nfor x, y in cadastroPatrimonio.items():\n    print([x]+list(cadastroPatrimonio[x].values()))\n    c.writerow([x]+list(cadastroPatrimonio[x].values()))\narq.close()",
      "execution_count": null,
      "outputs": []
    },
    {
      "metadata": {},
      "cell_type": "markdown",
      "source": "### Consulta de dispositivo patrimonial\n\n##### Passo 1:\n* Importar biblioteca CSV. Importar biblioteca TIME. Abrir arquivo \".csv\" com dados gravados. Realizar leitura do arquivo."
    },
    {
      "metadata": {
        "trusted": true
      },
      "cell_type": "code",
      "source": "import time\nimport csv\narquivo = open('projeto_algoritmo.csv')\ndispositivos = csv.reader(arquivo)",
      "execution_count": null,
      "outputs": []
    },
    {
      "metadata": {},
      "cell_type": "markdown",
      "source": "### Passo 2:\n* Definição da função para leitura e adição de dados do arquivo \".csv\" a uma lista."
    },
    {
      "metadata": {
        "trusted": true
      },
      "cell_type": "code",
      "source": "def adicionalist():\n    arquivo.seek(0)\n    for dispositivo in dispositivos:\n        if leia == dispositivo[0]:\n            resultado.append(dispositivo)",
      "execution_count": null,
      "outputs": []
    },
    {
      "metadata": {},
      "cell_type": "markdown",
      "source": "##### Passo 3:\n* Bloco de print's para iniciar interação visual com usuario."
    },
    {
      "metadata": {
        "trusted": true
      },
      "cell_type": "code",
      "source": "print('=-'*24)\nprint('Consulta de dispositivos com liberação aprovada')\nprint('=-'*24)\ntime.sleep(1)",
      "execution_count": null,
      "outputs": []
    },
    {
      "metadata": {},
      "cell_type": "markdown",
      "source": "##### Passo 4:\n* Pergunta ao usuario se o mesmo deseja realizar a consulta de algum dispositivo."
    },
    {
      "metadata": {
        "trusted": true
      },
      "cell_type": "code",
      "source": "pergunta = input('Deseja consultar algum dispositivo? S/N ').upper().strip()",
      "execution_count": null,
      "outputs": []
    },
    {
      "metadata": {},
      "cell_type": "markdown",
      "source": "##### Passo 5:\n* Se resposta do usuario for S, realiza a pergunta de busca do n° de Patrimônio. Caso encontre na lista percorrida o N° de Patrimônio, exibe a os dados de cadastro com formatação; Caso não encontre, exibe mensagem de não encontrado e continua repetição para consulta de demais dispositivos."
    },
    {
      "metadata": {
        "trusted": true
      },
      "cell_type": "code",
      "source": "while pergunta == 'S' or pergunta == 'SIM':\n    leia = input('Digite o N° de Patrimônio do Dispositivo: ')\n    resultado = []\n    adicionalist()\n    if resultado:\n        print('Dispositivo Encontrado \\n')\n        time.sleep(1)\n        print('''\n            Dados do dispositivo:\n\n            Patrimônio = {}\n            Tipo de Dispositivo = {}\n            Marca = {}\n            Modelo = {}\n\n                    '''.format(resultado[0][0],resultado[0][1],resultado[0][2],resultado[0][3]))\n    else:\n        print('Não Encontrado')",
      "execution_count": null,
      "outputs": []
    },
    {
      "metadata": {},
      "cell_type": "markdown",
      "source": "## Fase 5:\n\n* Nosso projeto tem como objetivo otimizar o tempo em processos de liberação de dispositivos em grandes empresas "
    }
  ],
  "metadata": {
    "kernelspec": {
      "name": "python36",
      "display_name": "Python 3.6",
      "language": "python"
    },
    "language_info": {
      "mimetype": "text/x-python",
      "nbconvert_exporter": "python",
      "name": "python",
      "pygments_lexer": "ipython3",
      "version": "3.6.6",
      "file_extension": ".py",
      "codemirror_mode": {
        "version": 3,
        "name": "ipython"
      }
    }
  },
  "nbformat": 4,
  "nbformat_minor": 2
}