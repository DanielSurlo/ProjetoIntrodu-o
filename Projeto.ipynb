{
  "cells": [
    {
      "metadata": {},
      "cell_type": "markdown",
      "source": "# Projeto - Controle de Saída de Dispositivos Empresariais\n\n### Desenvolvedores:\n* Daniel Lamborghini Surlo\n* Marcos Vinícius Figueiredo Soriano\n                  \n### Introdução a Algoritmos 2019/01"
    },
    {
      "metadata": {
        "collapsed": true
      },
      "cell_type": "markdown",
      "source": "\n## Fase 1:\n\n#### Modelagem do problema:\n\nA questão em busca de uma solução, seria uma forma de realizar um controle físico/virtual de equipamentos empresariais destinados a colaboradores de uma determinada companhia. Ex.: Como fazer o controle de equipamentos emprestados; equipamentos que ficam sob a responsabilidade de determinados funcionários. Qual forma de alinhar essas informações com setores e principalmente aqueles responsáveis pela entrada e saída de pessoas?!\n    \n###### Obs.: Por conta do fluxo de pessoas, a resolução precisa apresentar algo viável com relação a tempo.\n"
    },
    {
      "metadata": {},
      "cell_type": "markdown",
      "source": "## Fase 2:\n\n#### Escopo do problema:\n\nHoje para um colaborador sair com equipamento de uma determinada empresa, se demanda um certo tempo, pois o mesmo necessita passar por certas etapas até conseguir uma liberação, algumas vezes são utilizadas autorizações por e-mail ou mesmo em papeis, isso se toma um tempo que muitas vezes é indispensavel.\nNosso projeto tem como objetivo de diminuir o tempo que se leva para se conseguir uma autorização, e até mesmo para facilitar o acesso desta, por um funcionário responsável pelo controle de entrada e saída da empresa, por exemplo um guarda patrimonial.\n\n\n[Nosso tempo é precioso](https://exame.abril.com.br/blog/gestao-fora-da-caixa/quanto-vale-seu-tempo/)\n    "
    },
    {
      "metadata": {},
      "cell_type": "markdown",
      "source": "## Fase 3:\n\n### Cadastro de dispositivo patrimonial.\n\n##### Passo 1: \n* Importar biblioteca CSV.\n* Definir cadastroPatrimonio como um dicionario vazio."
    },
    {
      "metadata": {
        "trusted": true
      },
      "cell_type": "code",
      "source": "import csv\ncadastroPatrimonio = {}",
      "execution_count": 1,
      "outputs": []
    },
    {
      "metadata": {},
      "cell_type": "markdown",
      "source": "##### Passo 2:\n* Definição da função controle.\n* dados é definido como um dicionario vazio."
    },
    {
      "metadata": {
        "trusted": true
      },
      "cell_type": "code",
      "source": "def controle (patrimonio, dispositivo, marca, modelo):\n    dados = {}  \n    dados['dispositivo'] = dispositivo\n    dados['marca'] = marca\n    dados['modelo'] = modelo\n\n    cadastroPatrimonio[patrimonio] = dados",
      "execution_count": 2,
      "outputs": []
    },
    {
      "metadata": {},
      "cell_type": "markdown",
      "source": "##### Passo 3:\n* Bloco de print's para iniciar interação visual com usuario."
    },
    {
      "metadata": {
        "trusted": true
      },
      "cell_type": "code",
      "source": "print('=-'*19)\nprint('Controle de Dispositivos Empresariais')\nprint('=-'*19)",
      "execution_count": 3,
      "outputs": [
        {
          "output_type": "stream",
          "text": "=-=-=-=-=-=-=-=-=-=-=-=-=-=-=-=-=-=-=-\nControle de Dispositivos Empresariais\n=-=-=-=-=-=-=-=-=-=-=-=-=-=-=-=-=-=-=-\n",
          "name": "stdout"
        }
      ]
    },
    {
      "metadata": {},
      "cell_type": "markdown",
      "source": "##### Passo 4:\n* Pergunta ao usuario se o mesmo deseja realizar um cadastro."
    },
    {
      "metadata": {
        "trusted": true
      },
      "cell_type": "code",
      "source": "sair = False\nwhile sair == False:\n    resposta = input('Deseja cadastrar um dispositivo? S/N ').upper().strip()\n    if resposta != 'S' and resposta != 'N':\n        print('Digite novamente, S para sim e N para não.')\n    else:\n        sair = True",
      "execution_count": 4,
      "outputs": [
        {
          "output_type": "stream",
          "name": "stdout",
          "text": "Deseja cadastrar um dispositivo? S/N s\n"
        }
      ]
    },
    {
      "metadata": {},
      "cell_type": "markdown",
      "source": "##### Passo 5:\n* Se resposta do usuario for S realiza as perguntas para cadastro.\n* Se usuario digitar qualquer caractere diferente de inteiro,o programa ira mostrar uma frase de alerta dizendo que só é aceito numero inteiro.\n* A função controle irá receber os parametros.\n* O loop será executado até que o usuario escolha para não realizar mais um cadastro."
    },
    {
      "metadata": {
        "trusted": true
      },
      "cell_type": "code",
      "source": "while resposta == 'S' or resposta == 'SIM':\n    try:        \n        patrimonio = int(input('Digite o N° de Patrimônio: '))\n        dispositivo = input('Digite o tipo de Dispositivo (Notebook, Tablet, Smartphone): ').upper()\n        marca = input('Digite a marca do Dispositivo: ').upper()\n        modelo = input('Digite o modelo do Dispositivo: ').upper()\n        while True:\n            resposta = input('Deseja cadastrar outro dispositivo? S/N ').upper().strip()\n            if resposta != 'S' and resposta != 'N':\n                print('Digite Novamente, S para sim e N para não.')\n            else:\n                break\n        controle(patrimonio, dispositivo, marca, modelo)     \n        if resposta == 'N' or resposta == 'NAO':\n            print('=-'*11)\n            print('Cadastro Finalizado')\n            print('=-'*11)\n    except:\n        print('Digite um numero inteiro')",
      "execution_count": 5,
      "outputs": [
        {
          "output_type": "stream",
          "name": "stdout",
          "text": "Digite o N° de Patrimônio: 546321\nDigite o tipo de Dispositivo (Notebook, Tablet, Smartphone): Notebook\nDigite a marca do Dispositivo: Acer\nDigite o modelo do Dispositivo: Aspire 5\nDeseja cadastrar um dispositivo? S/N gh\nDigite Novamente, S para sim e N para não.\nDeseja cadastrar um dispositivo? S/N n\n=-=-=-=-=-=-=-=-=-=-=-\nCadastro Finalizado\n=-=-=-=-=-=-=-=-=-=-=-\n"
        }
      ]
    },
    {
      "metadata": {},
      "cell_type": "markdown",
      "source": "##### Passo 6:\n* Abre o arquivo e percorre o for para gravar todos os arquivos que o usuario digitou."
    },
    {
      "metadata": {
        "trusted": true
      },
      "cell_type": "code",
      "source": "arq = open(\"projeto_algoritmo.csv\", \"a\")\nc = csv.writer(arq)\nfor x, y in cadastroPatrimonio.items():\n    print([x]+list(cadastroPatrimonio[x].values()))\n    c.writerow([x]+list(cadastroPatrimonio[x].values()))\narq.close()",
      "execution_count": 6,
      "outputs": [
        {
          "output_type": "stream",
          "text": "[546321, 'NOTEBOOK', 'ACER', 'ASPIRE 5']\n",
          "name": "stdout"
        }
      ]
    }
  ],
  "metadata": {
    "kernelspec": {
      "name": "python36",
      "display_name": "Python 3.6",
      "language": "python"
    },
    "language_info": {
      "mimetype": "text/x-python",
      "nbconvert_exporter": "python",
      "name": "python",
      "pygments_lexer": "ipython3",
      "version": "3.6.6",
      "file_extension": ".py",
      "codemirror_mode": {
        "version": 3,
        "name": "ipython"
      }
    }
  },
  "nbformat": 4,
  "nbformat_minor": 2
}