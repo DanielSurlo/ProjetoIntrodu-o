{
  "cells": [
    {
      "metadata": {
        "collapsed": true
      },
      "cell_type": "markdown",
      "source": "# Projeto - Controle de Saída de Dispositivos Empresariais\n\n### Desenvolvedores:\n* Daniel Lamborghini Surlo\n* Marcos Vinícius Figueiredo Soriano\n                  \n### Introdução a Algoritmos 2019/01\n\nA questão em busca de uma solução, seria uma forma de realizar um controle físico/virtual de equipamentos empresariais destinados a colaboradores de uma determinada companhia. Ex.: Como fazer o controle de equipamentos emprestados; equipamentos que ficam sob a responsabilidade de determinados funcionários. Qual forma de alinhar essas informações com setores e principalmente aqueles responsáveis pela entrada e saída de pessoas?!\nObs.: Por conta do fluxo de pessoas, a resolução precisa apresentar algo viável com relação a tempo.\n\nA idéia central do problema é essa.\n\n## Dispositivos principais a serem controlados:\n\n### Notebook's\n\n\n### Smarphones\n\n\n### Tablet's\n\n",
      "attachments": {}
    },
    {
      "metadata": {
        "trusted": true
      },
      "cell_type": "code",
      "source": "",
      "execution_count": null,
      "outputs": []
    }
  ],
  "metadata": {
    "kernelspec": {
      "name": "python36",
      "display_name": "Python 3.6",
      "language": "python"
    },
    "language_info": {
      "mimetype": "text/x-python",
      "nbconvert_exporter": "python",
      "name": "python",
      "pygments_lexer": "ipython3",
      "version": "3.6.6",
      "file_extension": ".py",
      "codemirror_mode": {
        "version": 3,
        "name": "ipython"
      }
    }
  },
  "nbformat": 4,
  "nbformat_minor": 2
}