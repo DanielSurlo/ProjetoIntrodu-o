{
  "cells": [
    {
      "metadata": {},
      "cell_type": "markdown",
      "source": "# Projeto - Controle de Saída de Dispositivos Empresariais\n\n### Desenvolvedores:\n* Daniel Lamborghini Surlo\n* Marcos Vinícius Figueiredo Soriano\n                  \n### Introdução a Algoritmos 2019/01"
    },
    {
      "metadata": {
        "collapsed": true
      },
      "cell_type": "markdown",
      "source": "\n## Fase 1:\n\n#### Modelagem do problema:\n\nA questão em busca de uma solução, seria uma forma de realizar um controle físico/virtual de equipamentos empresariais destinados a colaboradores de uma determinada companhia. Ex.: Como fazer o controle de equipamentos emprestados; equipamentos que ficam sob a responsabilidade de determinados funcionários. Qual forma de alinhar essas informações com setores e principalmente aqueles responsáveis pela entrada e saída de pessoas?!\n    \n###### Obs.: Por conta do fluxo de pessoas, a resolução precisa apresentar algo viável com relação a tempo.\n"
    },
    {
      "metadata": {},
      "cell_type": "markdown",
      "source": "## Fase 2:\n\n#### Escopo do problema:\n\nHoje para um colaborador sair com equipamento de uma determinada empresa, se demanda um certo tempo, pois o mesmo necessita passar por certas etapas até conseguir uma liberação, algumas vezes são utilizadas autorizações por e-mail ou mesmo em papeis, isso se toma um tempo que muitas vezes é indispensavel.\nNosso projeto tem como objetivo de diminuir o tempo que se leva para se conseguir uma autorização, e até mesmo para facilitar o acesso desta, por um funcionário responsável pelo controle de entrada e saída da empresa, por exemplo um guarda patrimonial.\n\n\n[Nosso tempo é precioso](https://exame.abril.com.br/blog/gestao-fora-da-caixa/quanto-vale-seu-tempo/)\n    "
    }
  ],
  "metadata": {
    "kernelspec": {
      "name": "python36",
      "display_name": "Python 3.6",
      "language": "python"
    },
    "language_info": {
      "mimetype": "text/x-python",
      "nbconvert_exporter": "python",
      "name": "python",
      "pygments_lexer": "ipython3",
      "version": "3.6.6",
      "file_extension": ".py",
      "codemirror_mode": {
        "version": 3,
        "name": "ipython"
      }
    }
  },
  "nbformat": 4,
  "nbformat_minor": 2
}